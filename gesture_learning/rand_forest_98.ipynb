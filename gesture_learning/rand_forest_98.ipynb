{
 "cells": [
  {
   "cell_type": "code",
   "execution_count": 1,
   "metadata": {},
   "outputs": [
    {
     "name": "stdout",
     "output_type": "stream",
     "text": [
      "Requirement already satisfied: joblib in /Users/Me/anaconda3/lib/python3.7/site-packages (0.14.1)\r\n"
     ]
    },
    {
     "name": "stderr",
     "output_type": "stream",
     "text": [
      "/Users/Me/anaconda3/lib/python3.7/site-packages/sklearn/ensemble/weight_boosting.py:29: DeprecationWarning: numpy.core.umath_tests is an internal NumPy module and should not be imported. It will be removed in a future NumPy release.\n",
      "  from numpy.core.umath_tests import inner1d\n"
     ]
    }
   ],
   "source": [
    "#!/usr/bin/env python3\n",
    "!pip install joblib\n",
    "\n",
    "\"\"\"\n",
    "Description: Template for gesture recognition via machine learning\n",
    "Author: Ayusman Saha\n",
    "\"\"\"\n",
    "import sys\n",
    "import numpy as np\n",
    "import keypoints as kp\n",
    "import matplotlib.pyplot as plt\n",
    "\n",
    "#-------#\n",
    "import seaborn as sns\n",
    "import pickle\n",
    "import joblib\n",
    "\n",
    "import numpy as np\n",
    "import pandas as pd\n",
    "import scipy.io\n",
    "from scipy import stats\n",
    "import random\n",
    "from sklearn.model_selection import train_test_split\n",
    "from sklearn.tree import DecisionTreeClassifier\n",
    "from sklearn.ensemble import RandomForestClassifier\n",
    "from sklearn.metrics import accuracy_score\n",
    "from sklearn.model_selection import cross_val_score\n",
    "import sklearn\n",
    "\n",
    "# --------------------------------------------------------------------------------------------------\n",
    "\n",
    "SPLIT = 0.75                # split percentage for training vs. testing data\n",
    "NORMALIZATION = 'cartesian' # type of data normalization ('cartesian' or 'polar')\n",
    "\n",
    "# --------------------------------------------------------------------------------------------------\n",
    "\n",
    "# NOTE: program needs keypoints.py which is located in gesture_learning/\n",
    "def main(args):\n",
    "    # check for correct arguments\n",
    "    print(args)\n",
    "    if len(args) != 2:\n",
    "        # NOTE: data is located in gesture_learning/data/\n",
    "        print(\"Usage: python template.py data\") \n",
    "        exit()\n",
    "\n",
    "    # process file\n",
    "    with open(args[3], 'r') as f:\n",
    "        train, test = kp.parse(f, shuffle=True, normalization=NORMALIZATION, split=SPLIT)\n",
    "\n",
    "    # NOTE: training on a normal distribution can be easier for some approaches\n",
    "#     train.data = kp.dataset.normalize(train.data, train.mean, train.std)\n",
    "\n",
    "    # NOTE: need to use training data information to normalize testing data\n",
    "#     test.data = kp.dataset.normalize(test.data, train.mean, train.std)\n",
    "\n",
    "    '''\n",
    "    do all machine learning work here\n",
    "\n",
    "    train.data contains entries that are formatted as 20 (x,y) points in order. These points\n",
    "    were generated from MediaPipe and correspond to keypoints on the user's hand. Although\n",
    "    MediaPipe generates 21 points, the base of the hand is used as the origin (0,0) when\n",
    "    normalizing and is therfore unnecessary.\n",
    "\n",
    "    train.labels contains integers corresponding to different gestures. Each data entry has a\n",
    "    corresponding label arranged such that train.data[i] is categorized by train.labels[i].\n",
    "    Currently, the gesture classes are:\n",
    "        0 - CLOSE\n",
    "        1 - OK\n",
    "        2 - OPEN\n",
    "        3 - CLICK\n",
    "\n",
    "    test.data is formatted the same as train.data and can be used to\n",
    "    test the model against data it has never seen before\n",
    "\n",
    "    test.labels is formatted the same as train.labels and can be used to\n",
    "    quantify the accuracy of the model\n",
    "    '''\n",
    "    print(\"shape of training data: \" + str(train.data.shape))\n",
    "    print(\"shape of training labels: \" + str(train.labels.shape))\n",
    "    print(\"\")\n",
    "    print(\"shape of testing data: \" + str(test.data.shape))\n",
    "    print(\"shape of testing labels: \" + str(test.labels.shape))\n",
    "\n",
    "    # NOTE: save models in gesture_learning/models/\n",
    "    clf2 = RandomForestClassifier(random_state=0)\n",
    "    clf2.fit(train.data, train.labels)\n",
    "    print(\"cross validation scores\", cross_val_score(clf2, train.data, train.labels, cv=10))\n",
    "    print(\"cross validation mean\", np.mean(cross_val_score(clf2, test.data, test.labels, cv=10)))\n",
    "    print(\"testing accuracy\", accuracy_score(test.labels, clf2.predict(test.data), normalize=True))\n",
    "\n",
    "    print(\"predicted:\", clf2.predict(test.data[0].reshape(1, -1)))\n",
    "          \n",
    "    print(\"ground truth:\", test.labels[0])\n",
    "\n",
    "    joblib.dump(clf2, 'models/rand_forest.sav')  # dump the EM model; use joblib_model= joblib.load('EM.sav') to load\n",
    "\n",
    "# --------------------------------------------------------------------------------------------------\n",
    "\n",
    "\n"
   ]
  },
  {
   "cell_type": "code",
   "execution_count": 2,
   "metadata": {},
   "outputs": [],
   "source": [
    "sys.argv.append(\"data/fourClass\")"
   ]
  },
  {
   "cell_type": "raw",
   "metadata": {},
   "source": [
    "if __name__ == '__main__':\n",
    "    main(sys.argv)\n"
   ]
  },
  {
   "cell_type": "code",
   "execution_count": null,
   "metadata": {},
   "outputs": [],
   "source": []
  },
  {
   "cell_type": "code",
   "execution_count": null,
   "metadata": {},
   "outputs": [],
   "source": []
  }
 ],
 "metadata": {
  "kernelspec": {
   "display_name": "Python 3",
   "language": "python",
   "name": "python3"
  },
  "language_info": {
   "codemirror_mode": {
    "name": "ipython",
    "version": 3
   },
   "file_extension": ".py",
   "mimetype": "text/x-python",
   "name": "python",
   "nbconvert_exporter": "python",
   "pygments_lexer": "ipython3",
   "version": "3.7.1"
  }
 },
 "nbformat": 4,
 "nbformat_minor": 2
}
